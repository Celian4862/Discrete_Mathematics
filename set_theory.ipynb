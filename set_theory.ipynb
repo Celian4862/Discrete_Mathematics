{
 "cells": [
  {
   "cell_type": "code",
   "execution_count": 25,
   "id": "c90361b9",
   "metadata": {},
   "outputs": [],
   "source": [
    "from matplotlib_venn import venn2, venn2_circles, venn2_unweighted\n",
    "from matplotlib_venn import venn3, venn3_circles\n",
    "from matplotlib import pyplot as plt\n",
    "import pandas as pd\n",
    "%matplotlib inline"
   ]
  },
  {
   "cell_type": "code",
   "execution_count": 26,
   "id": "f65f01bb",
   "metadata": {},
   "outputs": [],
   "source": [
    "def drawVenn2(A,B,labels = ('A', 'B')):\n",
    "    '''\n",
    "    listing elements in Venn diagram of two sets\n",
    "    '''\n",
    "    v2=venn2([A,B],set_labels = labels);\n",
    "    v2.get_label_by_id('01').set_text(', '.join(map(str,B-A)))\n",
    "    v2.get_label_by_id('10').set_text(', '.join(map(str,A-B)))\n",
    "    if A&B:\n",
    "        v2.get_label_by_id('11').set_text(', '.join(map(str,A&B)))"
   ]
  },
  {
   "cell_type": "code",
   "execution_count": 27,
   "id": "92e1b13c",
   "metadata": {},
   "outputs": [],
   "source": [
    "def drawVenn3(A,B,C,labels = ('A', 'B', 'C')):\n",
    "    '''\n",
    "    listing elements in Venn diagram of three sets, A, B, C\n",
    "    '''\n",
    "    v3=venn3([A,B,C],set_labels = labels);\n",
    "    if A-B-C:\n",
    "        v3.get_label_by_id('100').set_text('\\n'.join(map(str,A-B-C)))\n",
    "        v3.get_patch_by_id('100').set_alpha(0.6)\n",
    "        v3.get_patch_by_id('100').set_facecolor('Yellow')\n",
    "    if A&B-C:\n",
    "        v3.get_label_by_id('110').set_text('\\n'.join(map(str,A&B-C)))\n",
    "        v3.get_patch_by_id('110').set_alpha(0.3)\n",
    "        v3.get_patch_by_id('110').set_facecolor('Red')\n",
    "    if B-C-A:\n",
    "        v3.get_label_by_id('010').set_text('\\n'.join(map(str,B-C-A)))\n",
    "        v3.get_patch_by_id('010').set_alpha(0.6)\n",
    "        v3.get_patch_by_id('010').set_facecolor('Magenta')\n",
    "    if A&C-B:\n",
    "        v3.get_label_by_id('101').set_text('\\n'.join(map(str,A&C-B)))\n",
    "        v3.get_patch_by_id('101').set_alpha(0.3)\n",
    "        v3.get_patch_by_id('101').set_facecolor('Green')\n",
    "    if A&B&C:\n",
    "        v3.get_label_by_id('111').set_text('\\n'.join(map(str,A&B&C)))\n",
    "        v3.get_patch_by_id('111').set_alpha(0.1)\n",
    "        v3.get_patch_by_id('111').set_facecolor('Black')\n",
    "    if B&C-A:\n",
    "        v3.get_label_by_id('011').set_text('\\n'.join(map(str,B&C-A)))\n",
    "        v3.get_patch_by_id('011').set_alpha(0.3)\n",
    "        v3.get_patch_by_id('011').set_facecolor('Blue')\n",
    "    if C-B-A:\n",
    "        v3.get_label_by_id('001').set_text('\\n'.join(map(str,C-B-A)))\n",
    "        v3.get_patch_by_id('001').set_alpha(0.6)\n",
    "        v3.get_patch_by_id('001').set_facecolor('Cyan')"
   ]
  },
  {
   "cell_type": "markdown",
   "id": "7c606016",
   "metadata": {},
   "source": [
    "# Complement Assignment:\n",
    "## Prove that $\\textbf{U}^c = \\emptyset$.\n",
    "Every element exists in the universal set. The only element that would exist outside this universe, then, is nothing, and therefore $\\emptyset$."
   ]
  },
  {
   "cell_type": "markdown",
   "id": "b2d4c3fd",
   "metadata": {},
   "source": [
    "# 1: Proving Identities\n",
    "## A. $\\textbf{A}\\setminus\\textbf{B} = \\textbf{A}\\cap\\textbf{B}^c$\n",
    "$\\textbf{A}\\setminus\\textbf{B} = \\{x|x\\in\\textbf{A}\\land x\\notin\\textbf{B}\\}$<br>\n",
    "$\\textbf{A}\\cap\\textbf{B}^c = \\{x|x\\in\\textbf{A}\\land x\\notin\\textbf{B}\\}$<br>"
   ]
  },
  {
   "cell_type": "markdown",
   "id": "71f42276",
   "metadata": {},
   "source": [
    "## B. $\\textbf{B}=(\\textbf{B}\\cap\\textbf{A})\\cup(\\textbf{B}\\cap\\textbf{A}^{c})$\n",
    "$\\textbf{B}\\cap\\textbf{A} = \\{x|x\\in\\textbf{B}\\land x\\in\\textbf{A}\\}$<br>\n",
    "$\\textbf{B}\\cap\\textbf{A}^{c} = \\{x|x\\in B\\land x\\notin A\\}$<br>\n",
    "$(\\textbf{B}\\cap\\textbf{A})\\cup (\\textbf{B}\\cap\\textbf{A}^{c}) = \\{x|(x\\in\\textbf{B}\\land x\\in\\textbf{A})\\lor(x\\in\\textbf{B}\\land x\\notin\\textbf{A})\\}$<br>\n",
    "### Example below:"
   ]
  },
  {
   "cell_type": "code",
   "execution_count": 81,
   "id": "8991c461",
   "metadata": {},
   "outputs": [
    {
     "name": "stdout",
     "output_type": "stream",
     "text": [
      "Set A (subset): {1, 2, 3}\n",
      "Set B (original): {1, 2, 3, 4, 5}\n",
      "Set C (A intersect B): {1, 2, 3}\n",
      "Set D (A \\ B): {4, 5}\n",
      "Set E (union): {1, 2, 3, 4, 5}\n"
     ]
    }
   ],
   "source": [
    "A = {1, 2, 3}\n",
    "print(f\"Set A (subset): {A}\")\n",
    "B = {1, 2, 3, 4, 5}\n",
    "print(f\"Set B (original): {B}\")\n",
    "C = A.intersection(B)\n",
    "print(f\"Set C (A intersect B): {C}\")\n",
    "D = B - A\n",
    "print(f\"Set D (A \\ B): {D}\")\n",
    "E = C.union(D)\n",
    "print(f\"Set E (union): {E}\")"
   ]
  },
  {
   "cell_type": "markdown",
   "id": "7e85d5c0",
   "metadata": {},
   "source": [
    "## C. $\\textbf{B}\\setminus\\textbf{A}=\\textbf{B}\\cap\\textbf{A}^c$\n",
    "$\\textbf{B}\\setminus\\textbf{A}= \\{x|x\\in\\textbf{B}\\land x\\notin\\textbf{A}\\}$<br>\n",
    "$\\textbf{B}\\cap\\textbf{A}^c = \\{x|x\\in\\textbf{B}\\land x\\notin\\textbf{A}\\}$<br>"
   ]
  },
  {
   "cell_type": "code",
   "execution_count": 20,
   "id": "cef89f34",
   "metadata": {},
   "outputs": [
    {
     "name": "stdout",
     "output_type": "stream",
     "text": [
      "Set B (superset): {1, 2, 3, 4, 5, 6, 7, 8, 9}\n",
      "Set A (subset): {1, 2, 3, 4, 5}\n",
      "Set C (B - A): {8, 9, 6, 7}\n"
     ]
    },
    {
     "data": {
      "image/png": "[encoded data removed]",
      "text/plain": [
       "<Figure size 640x480 with 1 Axes>"
      ]
     },
     "metadata": {},
     "output_type": "display_data"
    }
   ],
   "source": [
    "B = {1, 2, 3, 4, 5, 6, 7, 8, 9}\n",
    "print(f\"Set B (superset): {B}\")\n",
    "A = {1, 2, 3, 4, 5}\n",
    "print(f\"Set A (subset): {A}\")\n",
    "C = B - A\n",
    "print(f\"Set C (B - A): {C}\")\n",
    "drawVenn2(B, C, labels = ('B', 'B - A'))"
   ]
  },
  {
   "cell_type": "markdown",
   "id": "7d2f7dee",
   "metadata": {},
   "source": [
    "## D. $\\textbf{A}\\cup\\textbf{B}=\\textbf{A}\\cup(\\textbf{B}\\cap\\textbf{A}^{c})$\n",
    "$\\textbf{A}\\cup\\textbf{B} = \\{x|x\\in\\textbf{A} \\lor x\\in\\textbf{B}\\}$<br>\n",
    "$\\textbf{B}\\cap\\textbf{A}^{c} = \\{x\\in\\textbf{B}\\land x\\notin\\textbf{A}\\} = \\textbf{A}^{c}$<br>\n",
    "$\\textbf{A}\\cup \\textbf{A}^{c} = \\textbf{A}$<br>"
   ]
  },
  {
   "cell_type": "code",
   "execution_count": 8,
   "id": "91eb8ccc",
   "metadata": {
    "scrolled": true
   },
   "outputs": [
    {
     "name": "stdout",
     "output_type": "stream",
     "text": [
      "Set A: {1, 2, 3, 4, 5}\n",
      "Set B: {1, 2, 6, 7, 8}\n",
      "A union B (a.k.a. Set C): {1, 2, 3, 4, 5, 6, 7, 8}\n",
      "\n",
      "B - A: {8, 6, 7} = A-complement\n",
      "A union A-complement: {1, 2, 3, 4, 5, 6, 7, 8} = C (or A)\n"
     ]
    }
   ],
   "source": [
    "A = {1, 2, 3, 4, 5}\n",
    "print(f\"Set A: {A}\")\n",
    "B = {1, 2, 6, 7, 8}\n",
    "print(f\"Set B: {B}\")\n",
    "C = A.union(B)\n",
    "print(f\"A union B (a.k.a. Set C): {C}\")\n",
    "print(\"\")\n",
    "D = B - A\n",
    "print(f\"B - A: {D} = A-complement\")\n",
    "E = A.union(D)\n",
    "print(f\"A union A-complement: {E} = C (or A)\")"
   ]
  },
  {
   "cell_type": "markdown",
   "id": "e85910e7",
   "metadata": {},
   "source": [
    "## E. $(\\cup_{i=1}^{\\infty} \\textbf{A}_{i}^{c})^{c}=\\cap_{i=1}^{\\infty}\\textbf{A}_{i}$\n",
    "$(\\cup_{i=1}^{\\infty}\\textbf{A}_{i}^{c} = (\\textbf{U})^{c} = \\emptyset$<br>\n",
    "$\\cap_{i=1}^{\\infty}\\textbf{A}_{i} = \\emptyset$ because the intersection of all sets can be nothing, but $\\cap_{i=1}^{\\infty}\\textbf{A}_{i} = \\emptyset$ can still be a non-empty set."
   ]
  },
  {
   "cell_type": "markdown",
   "id": "638a3650",
   "metadata": {},
   "source": [
    "## F. $|\\textbf{A}\\cup \\textbf{B}| = |\\textbf{A}|+|\\textbf{B}|-|\\textbf{A}\\cap \\textbf{B}|$"
   ]
  },
  {
   "cell_type": "code",
   "execution_count": 2,
   "id": "72a629b6",
   "metadata": {},
   "outputs": [
    {
     "name": "stdout",
     "output_type": "stream",
     "text": [
      "Set A: {1, 2, 3, 4, 5}\n",
      "Set B: {5, 6, 7, 8, 9}\n",
      "A union B: {1, 2, 3, 4, 5, 6, 7, 8, 9}\n",
      "|A union B|: 9\n",
      "\n",
      "|A|: 5\n",
      "|B|: 5\n",
      "|A| + |B| = 10\n",
      "A intersection B: {5}\n",
      "|A intersection B|: 1\n",
      "|A| + |B| - |A intersection B| = 9 = |A union B|\n"
     ]
    }
   ],
   "source": [
    "A = {1, 2, 3, 4, 5}\n",
    "print(f\"Set A: {A}\")\n",
    "B = {5, 6, 7, 8, 9}\n",
    "print(f\"Set B: {B}\")\n",
    "a_plus_b = A.union(B)\n",
    "print(f\"A union B: {a_plus_b}\")\n",
    "print(f\"|A union B|: {len(a_plus_b)}\")\n",
    "print(\"\")\n",
    "print(f\"|A|: {len(A)}\")\n",
    "print(f\"|B|: {len(B)}\")\n",
    "print(f\"|A| + |B| = {len(A) + len(B)}\")\n",
    "print(f\"A intersection B: {A.intersection(B)}\")\n",
    "print(f\"|A intersection B|: {len(A.intersection(B))}\")\n",
    "print(f\"|A| + |B| - |A intersection B| = {len(A) + len(B) - len(A.intersection(B))} = |A union B|\")"
   ]
  },
  {
   "cell_type": "markdown",
   "id": "1e451343",
   "metadata": {},
   "source": [
    "# 2: Sets and Subsets\n",
    "## A.\n",
    "No.<br>\n",
    "$\\textbf{A}$ has odd numbers, so it doesn't satisfy \"x is even\". Therefore, $\\textbf{A}$ is not a proper subset of $\\textbf{B}$."
   ]
  },
  {
   "cell_type": "markdown",
   "id": "7d53f4bc",
   "metadata": {},
   "source": [
    "## B.\n",
    "Condition 1: $\\textbf{X} = \\{0, 1\\}$<br>\n",
    "Condition 2: $\\textbf{X} = \\{3, 4, 5\\}$<br>\n",
    "Condition 3: $\\textbf{X} = \\{0, 1, 2, 3, 4, 5, 6, 7, 8, 9\\}$<br>"
   ]
  },
  {
   "cell_type": "markdown",
   "id": "f34a2ea1",
   "metadata": {},
   "source": [
    "# 3: Set Operations\n",
    "a. $\\textbf{C}\\oplus \\textbf{D}$<br>\n",
    "   &nbsp;&nbsp;&nbsp;&nbsp;\n",
    "   C = {5,6,7,8,9}<br>\n",
    "   &nbsp;&nbsp;&nbsp;&nbsp;\n",
    "   D = {1,3,5,7,9}<br>\n",
    "   &nbsp;&nbsp;&nbsp;&nbsp;\n",
    "   What is in both C and D: {5, 7, 9}<br>\n",
    "   &nbsp;&nbsp;&nbsp;&nbsp;\n",
    "   Therefore, $\\textbf{C}\\oplus \\textbf{D} = \\{1, 3, 6, 8\\}$<br>\n",
    "\n",
    "b. $\\textbf{A}\\setminus \\textbf{B}$<br>\n",
    "   &nbsp;&nbsp;&nbsp;&nbsp;\n",
    "   A = {1,2,3,4,5}<br>\n",
    "   &nbsp;&nbsp;&nbsp;&nbsp;\n",
    "   B = {4,5,6,7}<br>\n",
    "   &nbsp;&nbsp;&nbsp;&nbsp;\n",
    "   What is in A that is not in B: {1,2,3}\n",
    "   <br>&nbsp;&nbsp;&nbsp;\n",
    "   $\\textbf{A}\\setminus \\textbf{B} = \\{1,2,3\\}$<br>\n",
    "\n",
    "c. $\\textbf{B}\\setminus \\textbf{A}$\n",
    "   <br>&nbsp;&nbsp;&nbsp;&nbsp;\n",
    "   What is in B that is not in A: {6,7}\n",
    "   <br>&nbsp;&nbsp;&nbsp;\n",
    "   <strong>Therefore</strong>, $\\textbf{B}\\setminus \\textbf{A} = \\{6,7\\}$.<br>\n",
    "\n",
    "d. $\\textbf{E}\\oplus \\textbf{F}$\n",
    "   <br>&nbsp;&nbsp;&nbsp;&nbsp;\n",
    "   E = {2,4,6,8}\n",
    "   <br>&nbsp;&nbsp;&nbsp;&nbsp;\n",
    "   F = {1,5,9}\n",
    "   <br>&nbsp;&nbsp;&nbsp;&nbsp;\n",
    "   E and F are disjoint.\n",
    "   <br>&nbsp;&nbsp;&nbsp;&nbsp;\n",
    "   <strong>Therefore</strong>, $\\textbf{E}\\oplus \\textbf{F} = \\{1, 2, 4, 5, 6, 8, 9\\}$."
   ]
  },
  {
   "cell_type": "code",
   "execution_count": 33,
   "id": "083c6e3f",
   "metadata": {},
   "outputs": [
    {
     "name": "stdout",
     "output_type": "stream",
     "text": [
      "𝐂⊕𝐃 = {1, 3, 6, 8}\n",
      "𝐀∖𝐁 = {1, 2, 3}\n",
      "𝐁∖𝐀 = {6, 7}\n",
      "𝐄⊕𝐅 = {1, 2, 4, 5, 6, 8, 9}\n"
     ]
    }
   ],
   "source": [
    "U = {1,2,3,4,5}\n",
    "A = {1,2,3,4,5}\n",
    "B = {4,5,6,7}\n",
    "C = {5,6,7,8,9}\n",
    "D = {1,3,5,7,9}\n",
    "E = {2,4,6,8}\n",
    "F = {1,5,9}\n",
    "print(f\"𝐂⊕𝐃 = {C ^ D}\")\n",
    "print(f\"𝐀∖𝐁 = {A - B}\")\n",
    "print(f\"𝐁∖𝐀 = {B - A}\")\n",
    "print(f\"𝐄⊕𝐅 = {E ^ F}\")"
   ]
  },
  {
   "cell_type": "markdown",
   "id": "80296673",
   "metadata": {},
   "source": [
    "# 4: Finite Sets and The Counting Principles"
   ]
  },
  {
   "cell_type": "code",
   "execution_count": 28,
   "id": "5f393353",
   "metadata": {},
   "outputs": [
    {
     "name": "stdout",
     "output_type": "stream",
     "text": [
      "Number of people who read at least one magazine: 100. The other 20 could have read other magazines, or read none.\n",
      "\n",
      "Number of people who read only one magazine: 56\n"
     ]
    },
    {
     "data": {
      "image/png": "[encoded data removed]",
      "text/plain": [
       "<Figure size 640x480 with 1 Axes>"
      ]
     },
     "metadata": {},
     "output_type": "display_data"
    }
   ],
   "source": [
    "# Initializing variables.\n",
    "people = 120\n",
    "newsweek = 65\n",
    "times = 45\n",
    "fortune = 42\n",
    "news_time = 20\n",
    "news_fort = 25\n",
    "time_fort = 15\n",
    "all_ = 8\n",
    "\n",
    "# Calculating those who read only two magazines.\n",
    "news_time -= all_\n",
    "news_fort -= all_\n",
    "time_fort -= all_\n",
    "\n",
    "# Calculating those who read exactly one magazine.\n",
    "times = times - all_ - news_time - time_fort\n",
    "fortune = fortune - all_ - news_fort - time_fort\n",
    "newsweek = newsweek - all_ - news_time - news_fort\n",
    "\n",
    "# \n",
    "A = {times, news_time, time_fort, all_}\n",
    "B = {fortune, news_fort, time_fort, all_}\n",
    "C = {newsweek, news_time, news_fort, all_}\n",
    "drawVenn3(A, B, C, labels = (\"Times\", \"Fortune\", \"Newsweek\"))\n",
    "print(f\"Number of people who read at least one magazine: {times + fortune + newsweek + news_time + news_fort + time_fort + all_}. The other 20 could have read other magazines, or read none.\")\n",
    "print(\"\")\n",
    "print(f\"Number of people who read only one magazine: {times + fortune + newsweek}\")"
   ]
  },
  {
   "cell_type": "code",
   "execution_count": 44,
   "id": "b7ceb921",
   "metadata": {},
   "outputs": [
    {
     "name": "stdout",
     "output_type": "stream",
     "text": [
      "Cars with only windows: 5\n",
      "Cars with only AC: 4\n",
      "Cars with only radio: 2\n",
      "\n",
      "Cars with both radio and windows: 1\n",
      "Cars with both AC and radio: 6\n",
      "\n",
      "Cars with only one option: 11\n",
      "Cars with none of the options: 2\n"
     ]
    },
    {
     "data": {
      "image/png": "[encoded data removed]",
      "text/plain": [
       "<Figure size 800x800 with 1 Axes>"
      ]
     },
     "metadata": {},
     "output_type": "display_data"
    }
   ],
   "source": [
    "from venn import venn\n",
    "%matplotlib inline\n",
    "\n",
    "# Initializing variables\n",
    "option = 25\n",
    "air_con = 15\n",
    "radio = 12\n",
    "window = 11\n",
    "a_w = 5\n",
    "a_r = 9\n",
    "r_w = 4\n",
    "all_ = 3\n",
    "\n",
    "# Modifying the values to fit the \"only\" description.\n",
    "a_w -= all_\n",
    "a_r -= all_\n",
    "r_w -= all_\n",
    "air_con = air_con - all_ - a_w - a_r\n",
    "radio = radio - all_ - a_r - r_w\n",
    "window = window - all_ - a_w - r_w\n",
    "\n",
    "# Creating arrays for use in a dictionary later\n",
    "count = 0\n",
    "list_window = []\n",
    "for i in range(window):\n",
    "    list_window.append(count)\n",
    "    count += 1\n",
    "list_ac = []\n",
    "for i in range(air_con):\n",
    "    list_ac.append(count)\n",
    "    count += 1\n",
    "list_radio = []\n",
    "for i in range(radio):\n",
    "    list_radio.append(count)\n",
    "    count += 1\n",
    "    \n",
    "list_win_ac = []\n",
    "for i in range(a_w):\n",
    "    list_win_ac.append(count)\n",
    "    count += 1\n",
    "list_rad_ac = []\n",
    "for i in range(a_r):\n",
    "    list_rad_ac.append(count)\n",
    "    count += 1\n",
    "list_rad_win = []\n",
    "for i in range(r_w):\n",
    "    list_rad_win.append(count)\n",
    "    count += 1\n",
    "\n",
    "list_all = []\n",
    "for i in range(all_):\n",
    "    list_all.append(count)\n",
    "    count += 1\n",
    "\n",
    "# Creating sets to correctly display the number of cars with certain features.\n",
    "set_window_0 = {x for x in list_window}\n",
    "set_window_1 = {x for x in list_win_ac}\n",
    "set_window_2 = {x for x in list_rad_win}\n",
    "set_window_3 = {x for x in list_all}\n",
    "set_window = set_window_0 | set_window_1 | set_window_2 | set_window_3\n",
    "\n",
    "set_ac_0 = {x for x in list_ac}\n",
    "set_ac_1 = {x for x in list_win_ac}\n",
    "set_ac_2 = {x for x in list_rad_ac}\n",
    "set_ac_3 = {x for x in list_all}\n",
    "set_ac = set_ac_0 | set_ac_1 | set_ac_2 | set_ac_3\n",
    "\n",
    "set_radio_0 = {x for x in list_radio}\n",
    "set_radio_1 = {x for x in list_rad_ac}\n",
    "set_radio_2 = {x for x in list_rad_win}\n",
    "set_radio_3 = {x for x in list_all}\n",
    "set_radio = set_radio_0 | set_radio_1 | set_radio_2 | set_radio_3\n",
    "\n",
    "# Creating a dictionary for the Venn diagram\n",
    "options = {\n",
    "    \"Power Windows\": set_window,\n",
    "    \"AC\": set_ac,\n",
    "    \"Radio\": set_radio\n",
    "}\n",
    "\n",
    "venn(options)\n",
    "\n",
    "print(f\"Cars with only windows: {window}\")\n",
    "print(f\"Cars with only AC: {air_con}\")\n",
    "print(f\"Cars with only radio: {radio}\")\n",
    "print(\"\")\n",
    "print(f\"Cars with both radio and windows: {r_w}\")\n",
    "print(f\"Cars with both AC and radio: {a_r}\")\n",
    "print(\"\")\n",
    "print(f\"Cars with only one option: {radio + window + air_con}\")\n",
    "print(f\"Cars with none of the options: {option - (air_con + radio + window + a_w + a_r + r_w + all_)}\")"
   ]
  }
 ],
 "metadata": {
  "kernelspec": {
   "display_name": "Python 3 (ipykernel)",
   "language": "python",
   "name": "python3"
  },
  "language_info": {
   "codemirror_mode": {
    "name": "ipython",
    "version": 3
   },
   "file_extension": ".py",
   "mimetype": "text/x-python",
   "name": "python",
   "nbconvert_exporter": "python",
   "pygments_lexer": "ipython3",
   "version": "3.11.4"
  }
 },
 "nbformat": 4,
 "nbformat_minor": 5
}
