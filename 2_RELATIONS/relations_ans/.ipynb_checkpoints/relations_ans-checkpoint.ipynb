{
 "cells": [
  {
   "cell_type": "code",
   "execution_count": 2,
   "id": "cdce660b",
   "metadata": {},
   "outputs": [],
   "source": [
    "import itertools\n",
    "def cartesian(*sets):\n",
    "    cart_prod = set(itertools.product(*sets))\n",
    "    return cart_prod"
   ]
  },
  {
   "cell_type": "markdown",
   "id": "085fc528",
   "metadata": {},
   "source": [
    "# Assignment: Create a Python function that will determine if a set is transitive or not."
   ]
  },
  {
   "cell_type": "code",
   "execution_count": 1,
   "id": "e275a51c",
   "metadata": {},
   "outputs": [],
   "source": [
    "def transitive(R, A):\n",
    "    for a in A:\n",
    "        for b in A:\n",
    "            if a != b:\n",
    "                if (a, b) in R:\n",
    "                    for c in A:\n",
    "                        if b != c:\n",
    "                            if (b, c) in R and (a, c) in R:\n",
    "                                return True\n",
    "    return False"
   ]
  },
  {
   "cell_type": "markdown",
   "id": "f0ada0b9",
   "metadata": {},
   "source": [
    "# Given $A = \\{1, 2, 3, 4\\}$ and $B = \\{x, y, z\\}$. Let $R$ be a relation from $A \\to B$:\n",
    "<br>\n",
    "<span style = \"font-size: 20px;\">\n",
    "    $$\n",
    "        \\textbf{R} = \\{\\{1, y\\}, \\{1, z\\}, \\{3, y\\}, \\{4, x\\}, \\{4, z\\}\\}\n",
    "    $$\n",
    "</span>\n",
    "<ol style = \"font-size: 18px;\">\n",
    "    <li>Find all $aRb$.</li>\n",
    "    <li>Find $R^{-1}$.</li>\n",
    "    <li>Determine the domain and range of $R$.</li>\n",
    "    <li>Check if $R$ is a reflexive relation.</li>\n",
    "    <li>Check if $R$ is a symmetric relation.</li>\n",
    "</ol>"
   ]
  },
  {
   "cell_type": "markdown",
   "id": "5eee13fb",
   "metadata": {},
   "source": [
    "## 1. Find all $aRb$.\n",
    "<div style = \"font-size: 18px;\">(1, y), (1, z), (3, y), (4, x), (4, z)<br>\n",
    "The relation is already given, so there is no need for a solution.</div>"
   ]
  },
  {
   "cell_type": "markdown",
   "id": "87e9882a",
   "metadata": {},
   "source": [
    "## 2. Find $R^{-1}$\n",
    "<div style = \"font-size: 18px;\">If $R$ is a relation from $A\\rightarrow B$, then $R^{-1}$ is a relation from $B\\rightarrow A$.\n",
    "Therefore, $R^{-1} = \\{(x, 4), (y, 1), (y, 3), (z, 1), (z, 4)\\}$</div>"
   ]
  },
  {
   "cell_type": "markdown",
   "id": "a396fa1a",
   "metadata": {},
   "source": [
    "## 3. Determine the domain and range of $R$.\n",
    "<div style = \"font-size: 18px;\">\n",
    "    Domain: {1, 3, 4}<br>\n",
    "    Range: {x, y, z}\n",
    "</div>"
   ]
  },
  {
   "cell_type": "markdown",
   "id": "75b5bc69",
   "metadata": {},
   "source": [
    "## 4. Check if $R$ is a reflexive relation.\n",
    "<div style = \"font-size: 18px;\">\n",
    "    $R$ is not a relation of a set to itself, so it cannot be reflexive.\n",
    "</div>"
   ]
  },
  {
   "cell_type": "code",
   "execution_count": 2,
   "id": "672b6f37",
   "metadata": {},
   "outputs": [
    {
     "name": "stdout",
     "output_type": "stream",
     "text": [
      "R has no element that is related to itself.\n"
     ]
    }
   ],
   "source": [
    "R = {(1, 'y'), (1, 'z'), (3, 'y'), (4, 'x'), (4, 'z')}\n",
    "for r in R:\n",
    "    if r[0] == r[1]:\n",
    "        print(\"R has an element that is related to itself.\")\n",
    "        return\n",
    "print(\"R has no element that is related to itself.\")"
   ]
  },
  {
   "cell_type": "markdown",
   "id": "4bb84984",
   "metadata": {},
   "source": [
    "## 5. Check if $R$ is a symmetric relation.\n",
    "<div style = \"font-size: 18px;\">\n",
    "    All elements in $R$ are unique, so they cannot be symmetric.\n",
    "</div>"
   ]
  },
  {
   "cell_type": "code",
   "execution_count": 4,
   "id": "5e822658",
   "metadata": {},
   "outputs": [
    {
     "name": "stdout",
     "output_type": "stream",
     "text": [
      "R is not symmetric relation.\n"
     ]
    }
   ],
   "source": [
    "def symmetry(R):\n",
    "    for r1 in R:\n",
    "        for r2 in R:\n",
    "            if r1[0] == r2[1] and r1[1] == r2[0]:\n",
    "                print(\"R is a symmetric relation.\")\n",
    "                return True\n",
    "if not symmetry(R):\n",
    "    print(\"R is not symmetric relation.\")"
   ]
  },
  {
   "cell_type": "markdown",
   "id": "5b10f119",
   "metadata": {},
   "source": [
    "# Given $A = \\{1, 2, 3, 4\\}$, $B = \\{a, b, c\\}$, $C = \\{x, y, z\\}$. Let $R$ be a relation from $A\\rightarrow B$:\n",
    "<br>\n",
    "<span style = \"font-size: 20px;\">\n",
    "$$\\textbf{R} = \\{(1, b), (2, a), (2, c)\\}$$\n",
    "</span>\n",
    "\n",
    "# Also, let $S$ be a relation from $B\\rightarrow C$:\n",
    "<br>\n",
    "<span style = \"font-size: 20px;\">\n",
    "    $$\\textbf{S} = \\{(a, y), (b, x), (c, y), (c, z)\\}$$\n",
    "</span>\n",
    "<ol style = \"font-size: 18px;\">\n",
    "    <li>Find the composition relation $\\textbf{R}\\circ\\textbf{S}$.</li>\n",
    "    <li>Find $R^{-1}$.</li>\n",
    "    <li>Find $S^{-1}$</li>\n",
    "    <li>Determine the domain and range of $R$.</li>\n",
    "    <li>Check if $R$ is a reflexive relation.</li>\n",
    "    <li>Check if $R$ is a symmetric relation.</li>\n",
    "    <li>Determine the domain and range of $S$.</li>\n",
    "    <li>Check if $S$ is a reflexive relation.</li>\n",
    "    <li>Check if $S$ is a symmetric relation.</li>\n",
    "</ol>"
   ]
  },
  {
   "cell_type": "markdown",
   "id": "29d203ee",
   "metadata": {},
   "source": [
    "## 1. Find the composition relation $\\textbf{R}\\circ\\textbf{S}$.\n",
    "<span style = \"font-size: 18px;\">\n",
    "    $\\textbf{R} = \\{(1, x), (2, y), (2, y)\\}$\n",
    "</span>"
   ]
  },
  {
   "cell_type": "markdown",
   "id": "5d5f66ce",
   "metadata": {},
   "source": [
    "## 2. Find $\\textbf{R}^{-1}$.\n",
    "<span style = \"font-size: 18px;\">\n",
    "    $\\textbf{R}^{-1} = \\{(a, 2), (b, 1), (c, 2)\\}$\n",
    "</span>"
   ]
  },
  {
   "cell_type": "markdown",
   "id": "88972362",
   "metadata": {},
   "source": [
    "## 3. Find $\\textbf{S}^{-1}$.\n",
    "<span style = \"font-size: 18px;\">\n",
    "    $\\textbf{S}^{-1} = \\{(x, b), (y, a), (y, c), (z, c)\\}$\n",
    "</span>"
   ]
  },
  {
   "cell_type": "markdown",
   "id": "c16a8dde",
   "metadata": {},
   "source": [
    "## 4. Determine the domain and range of $\\textbf{R}$.\n",
    "<span style = \"font-size: 18px;\">\n",
    "    Domain: {1, 2}<br>\n",
    "    Range: {a, b, c}\n",
    "</span>"
   ]
  },
  {
   "cell_type": "markdown",
   "id": "5821e1e3",
   "metadata": {},
   "source": [
    "## 5. Check if $\\textbf{R}$ is a reflexive relation.\n",
    "<span style = \"font-size: 18px;\">\n",
    "    $\\textbf{R}$ does not contain elements related to themselves, so it is not reflexive.\n",
    "</span>"
   ]
  },
  {
   "cell_type": "code",
   "execution_count": 3,
   "id": "ad9cedf4",
   "metadata": {},
   "outputs": [
    {
     "name": "stdout",
     "output_type": "stream",
     "text": [
      "There doesn't exist a reflexive element.\n"
     ]
    }
   ],
   "source": [
    "R = {(1, 'b'), (2, 'a'), (2, 'c')}\n",
    "for r in R:\n",
    "    if r[0] == r[1]:\n",
    "        print(\"There exists a reflexive element.\")\n",
    "print(\"There doesn't exist a reflexive element.\")"
   ]
  },
  {
   "cell_type": "markdown",
   "id": "90d62d55",
   "metadata": {},
   "source": [
    "## 6. Check if $\\textbf{R}$ is a symmetric relation.\n",
    "<span style = \"font-size: 18px;\">\n",
    "    It is not; it is neither a relation of A or B to themselves, nor is it a relation of A or B to a set with similar elements.\n",
    "</span>"
   ]
  },
  {
   "cell_type": "code",
   "execution_count": 4,
   "id": "4cc0afa8",
   "metadata": {},
   "outputs": [
    {
     "name": "stdout",
     "output_type": "stream",
     "text": [
      "There doesn't exist a symmetric pair.\n"
     ]
    }
   ],
   "source": [
    "for r1 in R:\n",
    "    for r2 in R:\n",
    "        if r1[0] == r2[1] and r1[1] == r2[0]:\n",
    "            print(\"There exists a symmetric pair.\")\n",
    "print(\"There doesn't exist a symmetric pair.\")"
   ]
  },
  {
   "cell_type": "markdown",
   "id": "c0954d91",
   "metadata": {},
   "source": [
    "## 7. Determine the domain and range of $\\textbf{S}$.\n",
    "<span style = \"font-size: 18px;\">\n",
    "    Domain: {a, b, c}<br>\n",
    "    Range: {x, y, z}\n",
    "</span>"
   ]
  },
  {
   "cell_type": "markdown",
   "id": "14614890",
   "metadata": {},
   "source": [
    "## 8. Check if $\\textbf{S}$ is a reflexive relation.\n",
    "<span style = \"font-size: 18px;\">\n",
    "    All ordered elements are unique, so $\\textbf{S}$ cannot be a reflexive relation.\n",
    "</span>"
   ]
  },
  {
   "cell_type": "code",
   "execution_count": 6,
   "id": "f0b46792",
   "metadata": {},
   "outputs": [
    {
     "name": "stdout",
     "output_type": "stream",
     "text": [
      "There isn't a reflexive element.\n"
     ]
    }
   ],
   "source": [
    "S = {('a', 'y'), ('b', 'x'), ('c', 'y'), ('c', 'z')}\n",
    "for s in S:\n",
    "    if s[0] == s[1]:\n",
    "        print(\"There is a reflexive element.\")\n",
    "print(\"There isn't a reflexive element.\")"
   ]
  },
  {
   "cell_type": "markdown",
   "id": "d4772705",
   "metadata": {},
   "source": [
    "## 9. Check if $\\textbf{S}$ is a symmetric relation.\n",
    "<span style = \"font-size: 18px;\">\n",
    "    Every element is unique, so $\\textbf{S}$ cannot be reflexive.\n",
    "</span>"
   ]
  },
  {
   "cell_type": "code",
   "execution_count": 7,
   "id": "a267edde",
   "metadata": {},
   "outputs": [
    {
     "name": "stdout",
     "output_type": "stream",
     "text": [
      "There isn't a symmetric pair.\n"
     ]
    }
   ],
   "source": [
    "for s1 in S:\n",
    "    for s2 in S:\n",
    "        if s1[0] == s2[1] and s1[1] == s2[0]:\n",
    "            print(\"There is a symmetric pair.\")\n",
    "print(\"There isn't a symmetric pair.\")"
   ]
  },
  {
   "cell_type": "markdown",
   "id": "212456b7",
   "metadata": {},
   "source": [
    "# Given $\\textbf{A} = \\{1, 2, 3, 4\\}$, let $\\textbf{R}$ be a relation from $\\textbf{A}\\rightarrow\\textbf{B}$:\n",
    "<br>\n",
    "<span style = \"font-size: 20px;\">\n",
    "    $$\n",
    "        \\textbf{R} = \\{(1, 1), (2, 2), (2, 3), (3, 2), (4, 2), (4, 4)\\}\n",
    "    $$\n",
    "</span>\n",
    "<ol style = \"font-size: 18px;\">\n",
    "    <li>Find the composition relation $\\textbf{R}\\circ\\textbf{R}$.</li>\n",
    "    <li>Draw the directed graph of $\\textbf{R}^{-1}$.</li>\n",
    "    <li>Draw the directed graph of $\\textbf{R}$.</li>\n",
    "</ol>"
   ]
  },
  {
   "cell_type": "markdown",
   "id": "0b257093",
   "metadata": {},
   "source": [
    "## 1. Find the composition relation $\\textbf{R}\\circ\\textbf{R}$.\n",
    "<span style = \"font-size: 18px;\">\n",
    "    {(2, 2), (4, 2)}\n",
    "</span>"
   ]
  },
  {
   "cell_type": "markdown",
   "id": "006990c9",
   "metadata": {},
   "source": [
    "## 2. Draw the directed graph of $\\textbf{R}^{-1}$.\n",
    "<span style = \"font-size: 18px;\">\n",
    "    \n",
    "</span>"
   ]
  }
 ],
 "metadata": {
  "kernelspec": {
   "display_name": "Python 3 (ipykernel)",
   "language": "python",
   "name": "python3"
  },
  "language_info": {
   "codemirror_mode": {
    "name": "ipython",
    "version": 3
   },
   "file_extension": ".py",
   "mimetype": "text/x-python",
   "name": "python",
   "nbconvert_exporter": "python",
   "pygments_lexer": "ipython3",
   "version": "3.11.4"
  }
 },
 "nbformat": 4,
 "nbformat_minor": 5
}
