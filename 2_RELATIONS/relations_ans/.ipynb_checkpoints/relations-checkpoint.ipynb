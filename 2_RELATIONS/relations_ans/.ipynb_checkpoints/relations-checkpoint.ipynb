{
 "cells": [
  {
   "cell_type": "code",
   "execution_count": 19,
   "id": "cdce660b",
   "metadata": {},
   "outputs": [],
   "source": [
    "import itertools\n",
    "def cartesian(*sets):\n",
    "    cart_prod = set(itertools.product(*sets))\n",
    "    return cart_prod"
   ]
  },
  {
   "cell_type": "markdown",
   "id": "085fc528",
   "metadata": {},
   "source": [
    "# Assignment: Create a Python function that will determine if a set is transitive or not."
   ]
  },
  {
   "cell_type": "code",
   "execution_count": 21,
   "id": "e275a51c",
   "metadata": {},
   "outputs": [],
   "source": [
    "def transitive(R, A):\n",
    "    for a in A:\n",
    "        for b in A:\n",
    "            if a != b:\n",
    "                if (a, b) in R:\n",
    "                    for c in A:\n",
    "                        if b != c:\n",
    "                            if (b, c) in R and (a, c) in R:\n",
    "                                return True\n",
    "    return False"
   ]
  },
  {
   "cell_type": "markdown",
   "id": "f0ada0b9",
   "metadata": {},
   "source": [
    "# Given $A = \\{1, 2, 3, 4\\}$ and $B = \\{x, y, z\\}$. Let $R$ be a relation from $A \\to B$:\n",
    "<br>\n",
    "<span style = \"font-size: 20px;\">\n",
    "    $$\n",
    "        \\textbf{R} = \\{\\{1, y\\}, \\{1, z\\}, \\{3, y\\}, \\{4, x\\}, \\{4, z\\}\\}\n",
    "    $$\n",
    "</span>\n",
    "<ol style = \"font-size: 18px;\">\n",
    "    <li>Find all $aRb$.</li>\n",
    "    <li>Find $R^{-1}$.</li>\n",
    "    <li>Determine the domain and range of $R$.</li>\n",
    "    <li>Check if $R$ is a reflexive relation.</li>\n",
    "    <li>Check if $R$ is a symmetric relation.</li>\n",
    "</ol>"
   ]
  },
  {
   "cell_type": "markdown",
   "id": "5eee13fb",
   "metadata": {},
   "source": [
    "## 1. Find all $aRb$.\n",
    "<div style = \"font-size: 18px;\">(1, y), (1, z), (3, y), (4, x), (4, z)<br>\n",
    "The relation is already given, so there is no need for a solution.</div>"
   ]
  },
  {
   "cell_type": "markdown",
   "id": "87e9882a",
   "metadata": {},
   "source": [
    "## 2. Find $R^{-1}$\n",
    "<div style = \"font-size: 18px;\">If $R$ is a relation from $A\\rightarrow B$, then $R^{-1}$ is a relation from $B\\rightarrow A$.\n",
    "Therefore, $R^{-1} = \\{(x, 4), (y, 1), (y, 3), (z, 1), (z, 4)\\}$</div>"
   ]
  }
 ],
 "metadata": {
  "kernelspec": {
   "display_name": "Python 3 (ipykernel)",
   "language": "python",
   "name": "python3"
  },
  "language_info": {
   "codemirror_mode": {
    "name": "ipython",
    "version": 3
   },
   "file_extension": ".py",
   "mimetype": "text/x-python",
   "name": "python",
   "nbconvert_exporter": "python",
   "pygments_lexer": "ipython3",
   "version": "3.11.4"
  }
 },
 "nbformat": 4,
 "nbformat_minor": 5
}
