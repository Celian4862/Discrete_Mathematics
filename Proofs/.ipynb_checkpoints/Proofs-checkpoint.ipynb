{
 "cells": [
  {
   "cell_type": "markdown",
   "id": "185db601",
   "metadata": {},
   "source": [
    "Recall the definition of a rational number, denoted as \n",
    ". Prove that the Euler's number $e=\\Sigma ^{\\infty} _{k=0}\\frac{1}{k!}\\notin \\mathbb{Q}$. A factorial is defined as $k!=(k)(k-1)(k-2)(k-3)...,\\forall k\\in \\mathbb{Z}^+$, note that $0!=1$. Furthermore, a sum notation $\\Sigma ^\\infty _{k=0} k=0+1+2+3+...+...$"
   ]
  },
  {
   "cell_type": "markdown",
   "id": "7a2a3078",
   "metadata": {},
   "source": []
  },
  {
   "cell_type": "markdown",
   "id": "5f400b2f",
   "metadata": {},
   "source": [
    "Prove Minkowski's Inequality for sums $\\forall p>1, (a_k, b_k)>0:$\n",
    "$$[]$$"
   ]
  },
  {
   "cell_type": "code",
   "execution_count": null,
   "id": "72ab33e1",
   "metadata": {},
   "outputs": [],
   "source": []
  }
 ],
 "metadata": {
  "kernelspec": {
   "display_name": "Python 3 (ipykernel)",
   "language": "python",
   "name": "python3"
  },
  "language_info": {
   "codemirror_mode": {
    "name": "ipython",
    "version": 3
   },
   "file_extension": ".py",
   "mimetype": "text/x-python",
   "name": "python",
   "nbconvert_exporter": "python",
   "pygments_lexer": "ipython3",
   "version": "3.11.4"
  }
 },
 "nbformat": 4,
 "nbformat_minor": 5
}
